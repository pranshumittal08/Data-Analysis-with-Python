{
 "cells": [
  {
   "cell_type": "markdown",
   "metadata": {},
   "source": [
    "# Basics of Numpy arrays and functions"
   ]
  },
  {
   "cell_type": "code",
   "execution_count": 1,
   "metadata": {},
   "outputs": [],
   "source": [
    "#importing the numpy library and declaring a new array with 100 elements of initial value 0 and data type unsigned integer 16\n",
    "import numpy as np\n",
    "study_minutes = np.zeros(shape = (10,10),dtype = np.uint16)"
   ]
  },
  {
   "cell_type": "code",
   "execution_count": 2,
   "metadata": {},
   "outputs": [
    {
     "data": {
      "text/plain": [
       "array([[0, 0, 0, 0, 0, 0, 0, 0, 0, 0],\n",
       "       [0, 0, 0, 0, 0, 0, 0, 0, 0, 0],\n",
       "       [0, 0, 0, 0, 0, 0, 0, 0, 0, 0],\n",
       "       [0, 0, 0, 0, 0, 0, 0, 0, 0, 0],\n",
       "       [0, 0, 0, 0, 0, 0, 0, 0, 0, 0],\n",
       "       [0, 0, 0, 0, 0, 0, 0, 0, 0, 0],\n",
       "       [0, 0, 0, 0, 0, 0, 0, 0, 0, 0],\n",
       "       [0, 0, 0, 0, 0, 0, 0, 0, 0, 0],\n",
       "       [0, 0, 0, 0, 0, 0, 0, 0, 0, 0],\n",
       "       [0, 0, 0, 0, 0, 0, 0, 0, 0, 0]], dtype=uint16)"
      ]
     },
     "execution_count": 2,
     "metadata": {},
     "output_type": "execute_result"
    }
   ],
   "source": [
    "study_minutes"
   ]
  },
  {
   "cell_type": "code",
   "execution_count": 3,
   "metadata": {},
   "outputs": [
    {
     "data": {
      "text/plain": [
       "dtype('uint16')"
      ]
     },
     "execution_count": 3,
     "metadata": {},
     "output_type": "execute_result"
    }
   ],
   "source": [
    "#returns the data type of each element\n",
    "study_minutes.dtype"
   ]
  },
  {
   "cell_type": "code",
   "execution_count": 4,
   "metadata": {},
   "outputs": [
    {
     "data": {
      "text/plain": [
       "2"
      ]
     },
     "execution_count": 4,
     "metadata": {},
     "output_type": "execute_result"
    }
   ],
   "source": [
    "#returns the size in bytes for each element\n",
    "study_minutes.itemsize"
   ]
  },
  {
   "cell_type": "code",
   "execution_count": 5,
   "metadata": {},
   "outputs": [
    {
     "data": {
      "text/plain": [
       "100"
      ]
     },
     "execution_count": 5,
     "metadata": {},
     "output_type": "execute_result"
    }
   ],
   "source": [
    "#returns the size of the array\n",
    "study_minutes.size"
   ]
  },
  {
   "cell_type": "code",
   "execution_count": 6,
   "metadata": {},
   "outputs": [
    {
     "data": {
      "text/plain": [
       "200"
      ]
     },
     "execution_count": 6,
     "metadata": {},
     "output_type": "execute_result"
    }
   ],
   "source": [
    "#returns the total memory size of the array\n",
    "study_minutes.nbytes"
   ]
  },
  {
   "cell_type": "code",
   "execution_count": 7,
   "metadata": {},
   "outputs": [
    {
     "data": {
      "text/plain": [
       "(10, 10)"
      ]
     },
     "execution_count": 7,
     "metadata": {},
     "output_type": "execute_result"
    }
   ],
   "source": [
    "#returns the shape of the array 1-D or 2-D\n",
    "study_minutes.shape\n"
   ]
  },
  {
   "cell_type": "code",
   "execution_count": 8,
   "metadata": {},
   "outputs": [],
   "source": [
    "#using slicing to assign values \n",
    "study_minutes[0][2:8] = [56,67,87,76,65,76]"
   ]
  },
  {
   "cell_type": "code",
   "execution_count": 11,
   "metadata": {},
   "outputs": [],
   "source": [
    "study_minutes = np.array([study_minutes, np.zeros(shape = (10,10))], dtype= np.uint16) # creating a 2D array"
   ]
  },
  {
   "cell_type": "code",
   "execution_count": 12,
   "metadata": {},
   "outputs": [
    {
     "name": "stdout",
     "output_type": "stream",
     "text": [
      "[[ 0  0  0  0  0  0  0  0  0  0]\n",
      " [ 0  0  0  0  0  0  0  0  0  0]\n",
      " [45 45 45 45 45 45 45 45 45 45]\n",
      " [ 0  0  0  0  0  0  0  0  0  0]\n",
      " [ 0  0  0  0  0  0  0  0  0  0]\n",
      " [ 0  0  0  0  0  0  0  0  0  0]\n",
      " [ 0  0  0  0  0  0  0  0  0  0]\n",
      " [ 0  0  0  0  0  0  0  0  0  0]\n",
      " [ 0  0  0  0  0  0  0  0  0  0]\n",
      " [ 0  0  0  0  0  0  0  0  0  0]]\n"
     ]
    }
   ],
   "source": [
    "study_minutes[1,2] = 45 #alternate for using study_minutes[1][2] syntax. Its a tuple notation\n",
    "print(study_minutes[1])"
   ]
  },
  {
   "cell_type": "code",
   "execution_count": 69,
   "metadata": {},
   "outputs": [
    {
     "name": "stdout",
     "output_type": "stream",
     "text": [
      "[[184 154  78 177 115 115  67 178  47 140]\n",
      " [116 156 137 136 199 179 193  88  76  94]\n",
      " [130 151 109  51 192 175 124 150  71 105]\n",
      " [160 111 112 175  55 155  45 138 139  45]\n",
      " [184 199 116  96 197 136 107 186  81 173]\n",
      " [ 88 192 103  90 174  54  74  97 146 132]\n",
      " [ 77  64  92 137  51 110 129  81  89  98]\n",
      " [123  49 131  88  64 149  75  89  80  72]\n",
      " [ 95 103 188  50 170 101  92 113 177 191]\n",
      " [156  87  62  56 104  52  98 176  66 115]]\n"
     ]
    }
   ],
   "source": [
    "rand = np.random.RandomState(seed = 50) #random generator class used to obtain random samples from various distributions or integers\n",
    "fake_log = rand.randint(45,200,100) #generating 100 random integers between value 45 to 200\n",
    "fake_log = fake_log.reshape(10,10)\n",
    "print(fake_log)"
   ]
  },
  {
   "cell_type": "code",
   "execution_count": 70,
   "metadata": {},
   "outputs": [
    {
     "name": "stdout",
     "output_type": "stream",
     "text": [
      "[[[  0   0   0   0   0   0   0   0   0   0]\n",
      "  [  0   0   0   0   0   0   0   0   0   0]\n",
      "  [  0   0   0   0   0   0   0   0   0   0]\n",
      "  [  0   0   0   0   0   0   0   0   0   0]\n",
      "  [  0   0   0   0   0   0   0   0   0   0]\n",
      "  [  0   0   0   0   0   0   0   0   0   0]\n",
      "  [  0   0   0   0   0   0   0   0   0   0]\n",
      "  [  0   0   0   0   0   0   0   0   0   0]\n",
      "  [  0   0   0   0   0   0   0   0   0   0]\n",
      "  [  0   0   0   0   0   0   0   0   0   0]]\n",
      "\n",
      " [[  0   0   0   0   0   0   0   0   0   0]\n",
      "  [  0   0   0   0   0   0   0   0   0   0]\n",
      "  [  0   0   0   0   0   0   0   0   0   0]\n",
      "  [  0   0   0   0   0   0   0   0   0   0]\n",
      "  [  0   0   0   0   0   0   0   0   0   0]\n",
      "  [  0   0   0   0   0   0   0   0   0   0]\n",
      "  [  0   0   0   0   0   0   0   0   0   0]\n",
      "  [  0   0   0   0   0   0   0   0   0   0]\n",
      "  [  0   0   0   0   0   0   0   0   0   0]\n",
      "  [  0   0   0   0   0   0   0   0   0   0]]\n",
      "\n",
      " [[184 154  78 177 115 115  67 178  47 140]\n",
      "  [116 156 137 136 199 179 193  88  76  94]\n",
      "  [130 151 109  51 192 175 124 150  71 105]\n",
      "  [160 111 112 175  55 155  45 138 139  45]\n",
      "  [184 199 116  96 197 136 107 186  81 173]\n",
      "  [ 88 192 103  90 174  54  74  97 146 132]\n",
      "  [ 77  64  92 137  51 110 129  81  89  98]\n",
      "  [123  49 131  88  64 149  75  89  80  72]\n",
      "  [ 95 103 188  50 170 101  92 113 177 191]\n",
      "  [156  87  62  56 104  52  98 176  66 115]]]\n"
     ]
    }
   ],
   "source": [
    "#Appends an array to another array and returns a new array as arrays are immutable\n",
    "study_minutes = np.append(study_minutes, [fake_log], axis =0) #fake_log is converted into a 2D array by putting into square brackets\n",
    "print(study_minutes)"
   ]
  },
  {
   "cell_type": "code",
   "execution_count": 71,
   "metadata": {},
   "outputs": [
    {
     "name": "stdout",
     "output_type": "stream",
     "text": [
      "[1313 1266 1128 1056 1321 1226 1004 1296  972 1165]\n",
      "[[184 154  78 177 115 115  67 178  47 140]\n",
      " [116 156 137 136 199 179 193  88  76  94]\n",
      " [130 151 109  51 192 175 124 150  71 105]\n",
      " [160 111 112 175  55 155  45 138 139  45]\n",
      " [184 199 116  96 197 136 107 186  81 173]\n",
      " [ 88 192 103  90 174  54  74  97 146 132]\n",
      " [ 77  64  92 137  51 110 129  81  89  98]\n",
      " [123  49 131  88  64 149  75  89  80  72]\n",
      " [ 95 103 188  50 170 101  92 113 177 191]\n",
      " [156  87  62  56 104  52  98 176  66 115]]\n",
      "[[   0    0    0    0    0    0    0    0    0    0]\n",
      " [   0    0    0    0    0    0    0    0    0    0]\n",
      " [1313 1266 1128 1056 1321 1226 1004 1296  972 1165]]\n"
     ]
    }
   ],
   "source": [
    "print(fake_log.sum(axis = 0)) #prints the sum of all the elements in 1D array. \n",
    "                              #axis is the dimension. here axis = 0 means summation along the horizontal axis or row\n",
    "                              \n",
    "print(study_minutes.sum(axis=0)) #prints the sum of all the elements in each column in 2D array. \n",
    "                                 #axis is the dimension. here axis = 0 means summation along the vertical axis or column\n",
    "                              \n",
    "print(study_minutes.sum(axis=1))     #prints the sum of all the elements in each row in 2D array. \n",
    "                              #axis is the dimension. here axis = 1 means summation along the horizontal axis or row\n",
    "                              "
   ]
  },
  {
   "cell_type": "code",
   "execution_count": 72,
   "metadata": {},
   "outputs": [
    {
     "data": {
      "text/plain": [
       "(3, 10, 10)"
      ]
     },
     "execution_count": 72,
     "metadata": {},
     "output_type": "execute_result"
    }
   ],
   "source": [
    "#returns the number of rows and columns of the array\n",
    "study_minutes.shape"
   ]
  },
  {
   "cell_type": "code",
   "execution_count": 73,
   "metadata": {},
   "outputs": [
    {
     "name": "stdout",
     "output_type": "stream",
     "text": [
      "[[160 111 112 175  55 155  45 138 139  45]\n",
      " [ 95 103 188  50 170 101  92 113 177 191]\n",
      " [123  49 131  88  64 149  75  89  80  72]\n",
      " [ 77  64  92 137  51 110 129  81  89  98]]\n"
     ]
    }
   ],
   "source": [
    "# passing a list of indexes to create an array. This is known as fancy indexing\n",
    "arr = fake_log[[3,8,7,6]]\n",
    "print(arr)"
   ]
  },
  {
   "cell_type": "code",
   "execution_count": 74,
   "metadata": {},
   "outputs": [
    {
     "data": {
      "text/plain": [
       "array([[[160, 111, 112, 175,  55, 155,  45, 138, 139,  45],\n",
       "        [116, 156, 137, 136, 199, 179, 193,  88,  76,  94]],\n",
       "\n",
       "       [[ 88, 192, 103,  90, 174,  54,  74,  97, 146, 132],\n",
       "        [ 77,  64,  92, 137,  51, 110, 129,  81,  89,  98]]])"
      ]
     },
     "execution_count": 74,
     "metadata": {},
     "output_type": "execute_result"
    }
   ],
   "source": [
    "#Using fancy indexing to obtain values of a 2-D array. \n",
    "#Note the shape of the array with returned values is same as the shape of the index array\n",
    "index =np.array([[3,1],[5,6]], dtype = np.uint16)\n",
    "fake_log[index]"
   ]
  },
  {
   "cell_type": "markdown",
   "metadata": {},
   "source": [
    "### Boolean Array Indexing\n"
   ]
  },
  {
   "cell_type": "code",
   "execution_count": 75,
   "metadata": {},
   "outputs": [
    {
     "data": {
      "text/plain": [
       "array([[False, False, False, False, False, False,  True, False,  True,\n",
       "        False],\n",
       "       [False, False, False, False, False, False, False, False, False,\n",
       "        False],\n",
       "       [False, False, False,  True, False, False, False, False, False,\n",
       "        False],\n",
       "       [False, False, False, False,  True, False,  True, False, False,\n",
       "         True],\n",
       "       [False, False, False, False, False, False, False, False, False,\n",
       "        False],\n",
       "       [False, False, False, False, False,  True, False, False, False,\n",
       "        False],\n",
       "       [False,  True, False, False,  True, False, False, False, False,\n",
       "        False],\n",
       "       [False,  True, False, False,  True, False, False, False, False,\n",
       "        False],\n",
       "       [False, False, False,  True, False, False, False, False, False,\n",
       "        False],\n",
       "       [False, False,  True,  True, False,  True, False, False,  True,\n",
       "        False]])"
      ]
     },
     "execution_count": 75,
     "metadata": {},
     "output_type": "execute_result"
    }
   ],
   "source": [
    "fake_log<70 #this checks for each value in the array and returns a boolean based on the operation"
   ]
  },
  {
   "cell_type": "code",
   "execution_count": 76,
   "metadata": {},
   "outputs": [
    {
     "data": {
      "text/plain": [
       "array([67, 47, 51, 55, 45, 45, 54, 64, 51, 49, 64, 50, 62, 56, 52, 66])"
      ]
     },
     "execution_count": 76,
     "metadata": {},
     "output_type": "execute_result"
    }
   ],
   "source": [
    "#using Fancy index to create an array of values less than 70 in the fake_log array\n",
    "fake_log[fake_log<70]"
   ]
  },
  {
   "cell_type": "code",
   "execution_count": 77,
   "metadata": {},
   "outputs": [
    {
     "data": {
      "text/plain": [
       "array([78, 67, 47, 88, 76, 51, 71, 55, 45, 45, 81, 88, 54, 74, 77, 64, 51,\n",
       "       81, 89, 49, 88, 64, 75, 89, 80, 72, 50, 87, 62, 56, 52, 66])"
      ]
     },
     "execution_count": 77,
     "metadata": {},
     "output_type": "execute_result"
    }
   ],
   "source": [
    "#returning all values greater than 0 and less than 90.\n",
    "#NOTE---- Do not forget to use & or bitwise operator in place of 'and'\n",
    "#NOTE---- Do not forget to add paranthesis before and after each expression\n",
    "study_minutes[(study_minutes<90) & (study_minutes>0)]"
   ]
  },
  {
   "cell_type": "code",
   "execution_count": 78,
   "metadata": {},
   "outputs": [],
   "source": [
    "#Replacing all values of the particular indexes with 0\n",
    "study_minutes[(study_minutes<90) & (study_minutes>0)] = 0"
   ]
  },
  {
   "cell_type": "code",
   "execution_count": 79,
   "metadata": {},
   "outputs": [
    {
     "data": {
      "text/plain": [
       "array([[[  0,   0,   0,   0,   0,   0,   0,   0,   0,   0],\n",
       "        [  0,   0,   0,   0,   0,   0,   0,   0,   0,   0],\n",
       "        [  0,   0,   0,   0,   0,   0,   0,   0,   0,   0],\n",
       "        [  0,   0,   0,   0,   0,   0,   0,   0,   0,   0],\n",
       "        [  0,   0,   0,   0,   0,   0,   0,   0,   0,   0],\n",
       "        [  0,   0,   0,   0,   0,   0,   0,   0,   0,   0],\n",
       "        [  0,   0,   0,   0,   0,   0,   0,   0,   0,   0],\n",
       "        [  0,   0,   0,   0,   0,   0,   0,   0,   0,   0],\n",
       "        [  0,   0,   0,   0,   0,   0,   0,   0,   0,   0],\n",
       "        [  0,   0,   0,   0,   0,   0,   0,   0,   0,   0]],\n",
       "\n",
       "       [[  0,   0,   0,   0,   0,   0,   0,   0,   0,   0],\n",
       "        [  0,   0,   0,   0,   0,   0,   0,   0,   0,   0],\n",
       "        [  0,   0,   0,   0,   0,   0,   0,   0,   0,   0],\n",
       "        [  0,   0,   0,   0,   0,   0,   0,   0,   0,   0],\n",
       "        [  0,   0,   0,   0,   0,   0,   0,   0,   0,   0],\n",
       "        [  0,   0,   0,   0,   0,   0,   0,   0,   0,   0],\n",
       "        [  0,   0,   0,   0,   0,   0,   0,   0,   0,   0],\n",
       "        [  0,   0,   0,   0,   0,   0,   0,   0,   0,   0],\n",
       "        [  0,   0,   0,   0,   0,   0,   0,   0,   0,   0],\n",
       "        [  0,   0,   0,   0,   0,   0,   0,   0,   0,   0]],\n",
       "\n",
       "       [[184, 154,   0, 177, 115, 115,   0, 178,   0, 140],\n",
       "        [116, 156, 137, 136, 199, 179, 193,   0,   0,  94],\n",
       "        [130, 151, 109,   0, 192, 175, 124, 150,   0, 105],\n",
       "        [160, 111, 112, 175,   0, 155,   0, 138, 139,   0],\n",
       "        [184, 199, 116,  96, 197, 136, 107, 186,   0, 173],\n",
       "        [  0, 192, 103,  90, 174,   0,   0,  97, 146, 132],\n",
       "        [  0,   0,  92, 137,   0, 110, 129,   0,   0,  98],\n",
       "        [123,   0, 131,   0,   0, 149,   0,   0,   0,   0],\n",
       "        [ 95, 103, 188,   0, 170, 101,  92, 113, 177, 191],\n",
       "        [156,   0,   0,   0, 104,   0,  98, 176,   0, 115]]])"
      ]
     },
     "execution_count": 79,
     "metadata": {},
     "output_type": "execute_result"
    }
   ],
   "source": [
    "study_minutes"
   ]
  },
  {
   "cell_type": "code",
   "execution_count": 80,
   "metadata": {},
   "outputs": [],
   "source": [
    "fake = fake_log[fake_log<70]"
   ]
  },
  {
   "cell_type": "code",
   "execution_count": 81,
   "metadata": {},
   "outputs": [
    {
     "data": {
      "text/plain": [
       "array([67, 47, 51, 55, 45, 45, 54, 64, 51, 49, 64, 50, 62, 56, 52, 66])"
      ]
     },
     "execution_count": 81,
     "metadata": {},
     "output_type": "execute_result"
    }
   ],
   "source": [
    "fake"
   ]
  },
  {
   "cell_type": "code",
   "execution_count": 82,
   "metadata": {},
   "outputs": [
    {
     "data": {
      "text/plain": [
       "array([[ 0,  1,  2,  3,  4,  5],\n",
       "       [ 6,  7,  8,  9, 10, 11],\n",
       "       [12, 13, 14, 15, 16, 17],\n",
       "       [18, 19, 20, 21, 22, 23],\n",
       "       [24, 25, 26, 27, 28, 29],\n",
       "       [30, 31, 32, 33, 34, 35],\n",
       "       [36, 37, 38, 39, 40, 41]])"
      ]
     },
     "execution_count": 82,
     "metadata": {},
     "output_type": "execute_result"
    }
   ],
   "source": [
    "practice = np.arange(42)\n",
    "practice.shape = (7,6)\n",
    "practice[:]"
   ]
  },
  {
   "cell_type": "code",
   "execution_count": 83,
   "metadata": {},
   "outputs": [
    {
     "data": {
      "text/plain": [
       "array([[15, 16, 17],\n",
       "       [21, 22, 23],\n",
       "       [27, 28, 29],\n",
       "       [33, 34, 35],\n",
       "       [39, 40, 41]])"
      ]
     },
     "execution_count": 83,
     "metadata": {},
     "output_type": "execute_result"
    }
   ],
   "source": [
    "practice[2:7, 3:6]"
   ]
  },
  {
   "cell_type": "code",
   "execution_count": 84,
   "metadata": {},
   "outputs": [
    {
     "data": {
      "text/plain": [
       "(array([[   0,    1,    2,    3,    4,    5],\n",
       "        [   6,    7,    8,    9,   10,   11],\n",
       "        [  12,   13,   14,   15,   16,   17],\n",
       "        [  18,   19,   20,   21,   22, 4503],\n",
       "        [  24,   25,   26,   27,   28,   29],\n",
       "        [  30,   31,   32,   33,   34,   35],\n",
       "        [  36,   37,   38,   39,   40,   41]]),\n",
       " array([[   0,    1,    2,    3,    4,    5],\n",
       "        [   6,    7,    8,    9,   10,   11],\n",
       "        [  12,   13,   14,   15,   16,   17],\n",
       "        [  18,   19,   20,   21,   22, 4503],\n",
       "        [  24,   25,   26,   27,   28,   29],\n",
       "        [  30,   31,   32,   33,   34,   35],\n",
       "        [  36,   37,   38,   39,   40,   41]]))"
      ]
     },
     "execution_count": 84,
     "metadata": {},
     "output_type": "execute_result"
    }
   ],
   "source": [
    "not_copied = practice[:]\n",
    "not_copied[3,5] = 4503\n",
    "not_copied, practice"
   ]
  },
  {
   "cell_type": "code",
   "execution_count": 85,
   "metadata": {},
   "outputs": [
    {
     "data": {
      "text/plain": [
       "(False, True)"
      ]
     },
     "execution_count": 85,
     "metadata": {},
     "output_type": "execute_result"
    }
   ],
   "source": [
    "not_copied.base is None, practice.base is None"
   ]
  },
  {
   "cell_type": "code",
   "execution_count": 86,
   "metadata": {},
   "outputs": [
    {
     "data": {
      "text/plain": [
       "True"
      ]
     },
     "execution_count": 86,
     "metadata": {},
     "output_type": "execute_result"
    }
   ],
   "source": [
    "not_copied.base is practice"
   ]
  },
  {
   "cell_type": "code",
   "execution_count": 87,
   "metadata": {},
   "outputs": [
    {
     "data": {
      "text/plain": [
       "(True, False)"
      ]
     },
     "execution_count": 87,
     "metadata": {},
     "output_type": "execute_result"
    }
   ],
   "source": [
    "practice.flags[\"OWNDATA\"], not_copied.flags[\"OWNDATA\"]"
   ]
  },
  {
   "cell_type": "code",
   "execution_count": 88,
   "metadata": {},
   "outputs": [
    {
     "data": {
      "text/plain": [
       "(array([[   0,    1,    2,    3,    4,    5,    6,    7,    8,    9,   10,\n",
       "           11,   12,   13,   14,   15,   16,   17,   18,   19,   20],\n",
       "        [  21,   22, 4503,   24,   25,   26,   27,   28,   29,   30,   31,\n",
       "           32,   33,   34,   35,   36,   37,   38,   39,   40,   41]]), True)"
      ]
     },
     "execution_count": 88,
     "metadata": {},
     "output_type": "execute_result"
    }
   ],
   "source": [
    "practice.reshape(2,21), practice.reshape(2,21).base is practice"
   ]
  },
  {
   "cell_type": "code",
   "execution_count": 89,
   "metadata": {},
   "outputs": [
    {
     "data": {
      "text/plain": [
       "array([   0,    1,    2,    3,    4,    5,    6,    7,    8,    9,   10,\n",
       "         11,   12,   13,   14,   15,   16,   17,   18,   19,   20,   21,\n",
       "         22, 4503,   24,   25,   26,   27,   28,   29,   30,   31,   32,\n",
       "         33,   34,   35,   36,   37,   38,   39,   40,   41])"
      ]
     },
     "execution_count": 89,
     "metadata": {},
     "output_type": "execute_result"
    }
   ],
   "source": [
    "practice.reshape(-1)"
   ]
  },
  {
   "cell_type": "code",
   "execution_count": 90,
   "metadata": {},
   "outputs": [
    {
     "data": {
      "text/plain": [
       "array([[   0,    1,    2,    3,    4,    5,    6],\n",
       "       [   7,    8,    9,   10,   11,   12,   13],\n",
       "       [  14,   15,   16,   17,   18,   19,   20],\n",
       "       [  21,   22, 4503,   24,   25,   26,   27],\n",
       "       [  28,   29,   30,   31,   32,   33,   34],\n",
       "       [  35,   36,   37,   38,   39,   40,   41]])"
      ]
     },
     "execution_count": 90,
     "metadata": {},
     "output_type": "execute_result"
    }
   ],
   "source": [
    "np.reshape(practice,(6,-1))"
   ]
  },
  {
   "cell_type": "code",
   "execution_count": 91,
   "metadata": {},
   "outputs": [
    {
     "data": {
      "text/plain": [
       "(array([   0,    1, 3456,    3,    4,    5,    6,    7,    8,    9,   10,\n",
       "          11,   12,   13,   14,   15,   16,   17,   18,   19,   20,   21,\n",
       "          22, 4503,   24,   25,   26,   27,   28,   29,   30,   31,   32,\n",
       "          33,   34,   35,   36,   37,   38,   39,   40,   41]),\n",
       " array([[   0,    1, 3456,    3,    4,    5],\n",
       "        [   6,    7,    8,    9,   10,   11],\n",
       "        [  12,   13,   14,   15,   16,   17],\n",
       "        [  18,   19,   20,   21,   22, 4503],\n",
       "        [  24,   25,   26,   27,   28,   29],\n",
       "        [  30,   31,   32,   33,   34,   35],\n",
       "        [  36,   37,   38,   39,   40,   41]]))"
      ]
     },
     "execution_count": 91,
     "metadata": {},
     "output_type": "execute_result"
    }
   ],
   "source": [
    "ravel = np.ravel(practice)\n",
    "ravel[2] = 3456\n",
    "ravel,practice"
   ]
  },
  {
   "cell_type": "code",
   "execution_count": 92,
   "metadata": {},
   "outputs": [
    {
     "data": {
      "text/plain": [
       "(array([   0,  255, 3456,    3,    4,    5,    6,    7,    8,    9,   10,\n",
       "          11,   12,   13,   14,   15,   16,   17,   18,   19,   20,   21,\n",
       "          22, 4503,   24,   25,   26,   27,   28,   29,   30,   31,   32,\n",
       "          33,   34,   35,   36,   37,   38,   39,   40,   41]),\n",
       " array([[   0,    1, 3456,    3,    4,    5],\n",
       "        [   6,    7,    8,    9,   10,   11],\n",
       "        [  12,   13,   14,   15,   16,   17],\n",
       "        [  18,   19,   20,   21,   22, 4503],\n",
       "        [  24,   25,   26,   27,   28,   29],\n",
       "        [  30,   31,   32,   33,   34,   35],\n",
       "        [  36,   37,   38,   39,   40,   41]]))"
      ]
     },
     "execution_count": 92,
     "metadata": {},
     "output_type": "execute_result"
    }
   ],
   "source": [
    "copy = practice.flatten()\n",
    "copy[1] = 255\n",
    "copy, practice"
   ]
  },
  {
   "cell_type": "code",
   "execution_count": 93,
   "metadata": {},
   "outputs": [],
   "source": [
    "np.reshape?"
   ]
  },
  {
   "cell_type": "code",
   "execution_count": 94,
   "metadata": {},
   "outputs": [
    {
     "data": {
      "text/plain": [
       "(array([[   0,    6,   12,   18,   24,   30,   36],\n",
       "        [   1,  897,   13,   19,   25,   31,   37],\n",
       "        [3456,    8,   14,   20,   26,   32,   38],\n",
       "        [   3,    9,   15,   21,   27,   33,   39],\n",
       "        [   4,   10,   16,   22,   28,   34,   40],\n",
       "        [   5,   11,   17, 4503,   29,   35,   41]]),\n",
       " array([[   0,    1, 3456,    3,    4,    5],\n",
       "        [   6,  897,    8,    9,   10,   11],\n",
       "        [  12,   13,   14,   15,   16,   17],\n",
       "        [  18,   19,   20,   21,   22, 4503],\n",
       "        [  24,   25,   26,   27,   28,   29],\n",
       "        [  30,   31,   32,   33,   34,   35],\n",
       "        [  36,   37,   38,   39,   40,   41]]))"
      ]
     },
     "execution_count": 94,
     "metadata": {},
     "output_type": "execute_result"
    }
   ],
   "source": [
    "pra = practice.T\n",
    "pra[1,1] = 897\n",
    "pra, practice"
   ]
  },
  {
   "cell_type": "code",
   "execution_count": 95,
   "metadata": {},
   "outputs": [
    {
     "data": {
      "text/plain": [
       "array([1.5 , 8.  , 1.25, 2.  ])"
      ]
     },
     "execution_count": 95,
     "metadata": {},
     "output_type": "execute_result"
    }
   ],
   "source": [
    "orders = np.array([2, 0, 0, 0,\n",
    "    4, 1, 2, 2,\n",
    "    0, 1, 0, 1,\n",
    "    6, 0, 1, 2])\n",
    "totals = np.array([3,20.50, 10, 14.25])\n",
    "orders.shape = (4,4)\n",
    "prices  = np.linalg.solve(orders,totals)\n",
    "prices"
   ]
  },
  {
   "cell_type": "code",
   "execution_count": 96,
   "metadata": {},
   "outputs": [
    {
     "data": {
      "text/plain": [
       "array([ 3.  , 20.5 , 10.  , 14.25])"
      ]
     },
     "execution_count": 96,
     "metadata": {},
     "output_type": "execute_result"
    }
   ],
   "source": [
    "orders @ prices"
   ]
  },
  {
   "cell_type": "code",
   "execution_count": 97,
   "metadata": {},
   "outputs": [
    {
     "data": {
      "text/plain": [
       "array([ 3.  , 20.5 , 10.  , 14.25])"
      ]
     },
     "execution_count": 97,
     "metadata": {},
     "output_type": "execute_result"
    }
   ],
   "source": [
    "orders.dot(prices)"
   ]
  },
  {
   "cell_type": "code",
   "execution_count": 98,
   "metadata": {},
   "outputs": [
    {
     "data": {
      "text/plain": [
       "array([ 1,  5,  9, 13, 17])"
      ]
     },
     "execution_count": 98,
     "metadata": {},
     "output_type": "execute_result"
    }
   ],
   "source": [
    "a = np.array([0,2,4,6,8])\n",
    "b = np.array([1,3,5,7,9])\n",
    "a+b"
   ]
  },
  {
   "cell_type": "code",
   "execution_count": 99,
   "metadata": {},
   "outputs": [
    {
     "data": {
      "text/plain": [
       "array([-1, -1, -1, -1, -1])"
      ]
     },
     "execution_count": 99,
     "metadata": {},
     "output_type": "execute_result"
    }
   ],
   "source": [
    "a-b"
   ]
  },
  {
   "cell_type": "code",
   "execution_count": 100,
   "metadata": {},
   "outputs": [
    {
     "data": {
      "text/plain": [
       "array([ 0,  6, 20, 42, 72])"
      ]
     },
     "execution_count": 100,
     "metadata": {},
     "output_type": "execute_result"
    }
   ],
   "source": [
    "a*b"
   ]
  },
  {
   "cell_type": "code",
   "execution_count": 101,
   "metadata": {},
   "outputs": [
    {
     "data": {
      "text/plain": [
       "array([0.        , 0.66666667, 0.8       , 0.85714286, 0.88888889])"
      ]
     },
     "execution_count": 101,
     "metadata": {},
     "output_type": "execute_result"
    }
   ],
   "source": [
    "a/b"
   ]
  },
  {
   "cell_type": "code",
   "execution_count": 102,
   "metadata": {},
   "outputs": [
    {
     "data": {
      "text/plain": [
       "array([ 0, 12, 24, 36, 48])"
      ]
     },
     "execution_count": 102,
     "metadata": {},
     "output_type": "execute_result"
    }
   ],
   "source": [
    "a*6"
   ]
  },
  {
   "cell_type": "code",
   "execution_count": 103,
   "metadata": {},
   "outputs": [
    {
     "data": {
      "text/plain": [
       "array([ 1,  5,  9, 13, 17])"
      ]
     },
     "execution_count": 103,
     "metadata": {},
     "output_type": "execute_result"
    }
   ],
   "source": [
    "np.add(a,b)"
   ]
  },
  {
   "cell_type": "code",
   "execution_count": 104,
   "metadata": {},
   "outputs": [
    {
     "data": {
      "text/plain": [
       "20"
      ]
     },
     "execution_count": 104,
     "metadata": {},
     "output_type": "execute_result"
    }
   ],
   "source": [
    "np.add.reduce(a)"
   ]
  },
  {
   "cell_type": "code",
   "execution_count": 105,
   "metadata": {},
   "outputs": [],
   "source": [
    "c = np.array(np.arange(42)).reshape(6,7)"
   ]
  },
  {
   "cell_type": "code",
   "execution_count": 106,
   "metadata": {},
   "outputs": [
    {
     "data": {
      "text/plain": [
       "(array([[ 0,  1,  2,  3,  4,  5,  6],\n",
       "        [ 7,  8,  9, 10, 11, 12, 13],\n",
       "        [14, 15, 16, 17, 18, 19, 20],\n",
       "        [21, 22, 23, 24, 25, 26, 27],\n",
       "        [28, 29, 30, 31, 32, 33, 34],\n",
       "        [35, 36, 37, 38, 39, 40, 41]]),\n",
       " array([105, 111, 117, 123, 129, 135, 141]),\n",
       " array([ 21,  70, 119, 168, 217, 266]),\n",
       " array([17.5, 18.5, 19.5, 20.5, 21.5, 22.5, 23.5]),\n",
       " array([ 3., 10., 17., 24., 31., 38.]),\n",
       " 20.5)"
      ]
     },
     "execution_count": 106,
     "metadata": {},
     "output_type": "execute_result"
    }
   ],
   "source": [
    "c, np.add.reduce(c,axis = 0), np.add.reduce(c, 1), np.mean(c, 0), np.mean(c,1), np.mean(c)"
   ]
  },
  {
   "cell_type": "code",
   "execution_count": 107,
   "metadata": {},
   "outputs": [
    {
     "data": {
      "text/plain": [
       "(array([2., 2., 2., 2., 2., 2.]),\n",
       " array([11.95477589, 11.95477589, 11.95477589, 11.95477589, 11.95477589,\n",
       "        11.95477589, 11.95477589]))"
      ]
     },
     "execution_count": 107,
     "metadata": {},
     "output_type": "execute_result"
    }
   ],
   "source": [
    "np.std(c,1), np.std(c,0)"
   ]
  },
  {
   "cell_type": "code",
   "execution_count": 108,
   "metadata": {},
   "outputs": [
    {
     "data": {
      "image/png": "[encoded data removed]",
      "text/plain": [
       "<Figure size 432x288 with 1 Axes>"
      ]
     },
     "metadata": {
      "needs_background": "light"
     },
     "output_type": "display_data"
    }
   ],
   "source": [
    "from matplotlib import pyplot as plt\n",
    "plt.scatter(c[:],c[:][:], 10, color = \"olive\", alpha = 0.4, label = \"Elements\")\n",
    "plt.title(\"2D Array\", fontsize = 16, loc = \"center\")\n",
    "plt.legend(fontsize = 12, loc = \"upper left\")\n",
    "\n",
    "plt.xlim(0,50)\n",
    "plt.show()"
   ]
  },
  {
   "cell_type": "code",
   "execution_count": 109,
   "metadata": {},
   "outputs": [
    {
     "data": {
      "text/plain": [
       "array([[ 5,  6,  7,  8,  9, 10, 11],\n",
       "       [12, 13, 14, 15, 16, 17, 18],\n",
       "       [19, 20, 21, 22, 23, 24, 25],\n",
       "       [26, 27, 28, 29, 30, 31, 32],\n",
       "       [33, 34, 35, 36, 37, 38, 39],\n",
       "       [40, 41, 42, 43, 44, 45, 46]])"
      ]
     },
     "execution_count": 109,
     "metadata": {},
     "output_type": "execute_result"
    }
   ],
   "source": [
    "np.add(c,5)"
   ]
  },
  {
   "cell_type": "code",
   "execution_count": 110,
   "metadata": {},
   "outputs": [
    {
     "data": {
      "text/plain": [
       "array([[1, 0, 0, 0],\n",
       "       [0, 1, 0, 0],\n",
       "       [0, 0, 1, 0],\n",
       "       [0, 0, 0, 1]], dtype=int16)"
      ]
     },
     "execution_count": 110,
     "metadata": {},
     "output_type": "execute_result"
    }
   ],
   "source": [
    "np.eye(4,4,dtype = np.int16)"
   ]
  },
  {
   "cell_type": "code",
   "execution_count": 111,
   "metadata": {},
   "outputs": [
    {
     "data": {
      "text/plain": [
       "array([['e', 'e', 'e', 'e'],\n",
       "       ['e', 'e', 'e', 'e'],\n",
       "       ['e', 'e', 'e', 'e'],\n",
       "       ['e', 'e', 'e', 'e'],\n",
       "       ['e', 'e', 'e', 'e']], dtype='<U1')"
      ]
     },
     "execution_count": 111,
     "metadata": {},
     "output_type": "execute_result"
    }
   ],
   "source": [
    "np.full([5,4],'e')"
   ]
  },
  {
   "cell_type": "code",
   "execution_count": 112,
   "metadata": {},
   "outputs": [
    {
     "data": {
      "text/plain": [
       "array([[1, 0, 0, 1, 0, 0, 1, 0, 0, 1, 0, 0, 1, 0, 0],\n",
       "       [0, 1, 0, 0, 1, 0, 0, 1, 0, 0, 1, 0, 0, 1, 0],\n",
       "       [0, 0, 1, 0, 0, 1, 0, 0, 1, 0, 0, 1, 0, 0, 1],\n",
       "       [0, 0, 0, 0, 0, 0, 0, 0, 0, 0, 0, 0, 0, 0, 0]])"
      ]
     },
     "execution_count": 112,
     "metadata": {},
     "output_type": "execute_result"
    }
   ],
   "source": [
    "np.tile(np.eye(4,3,dtype = np.int),5)"
   ]
  },
  {
   "cell_type": "code",
   "execution_count": 113,
   "metadata": {},
   "outputs": [
    {
     "data": {
      "text/plain": [
       "array([[135, 118, 157,  10, 122, 104,  23, 177, 112],\n",
       "       [150, 111, 145, 194, 171, 121, 198,  63, 189],\n",
       "       [ 67,  27, 111, 165,  53, 169,  31,  59,  32],\n",
       "       [ 99, 153, 111,  27, 151,  99, 162, 197, 123],\n",
       "       [176, 159, 150,  97,  36,  34, 122, 162,  70],\n",
       "       [ 70, 131,  63, 147, 194, 198,  18, 183,  65],\n",
       "       [194,  44, 111,  35,  68,  67,  77, 168,  97],\n",
       "       [ 42, 150,  10,  19,  59, 184, 146,  23, 106],\n",
       "       [185, 126,  21,  90, 121,  40, 172,  32,  88],\n",
       "       [109, 179,  66, 168, 113,  12, 186,  80,  80]])"
      ]
     },
     "execution_count": 113,
     "metadata": {},
     "output_type": "execute_result"
    }
   ],
   "source": [
    "np.random.randint(10,200,[10,9])"
   ]
  },
  {
   "cell_type": "code",
   "execution_count": 114,
   "metadata": {},
   "outputs": [
    {
     "data": {
      "text/plain": [
       "array([0, 2, 4, 6, 8])"
      ]
     },
     "execution_count": 114,
     "metadata": {},
     "output_type": "execute_result"
    }
   ],
   "source": [
    "np.arange(0,10,2)"
   ]
  },
  {
   "cell_type": "code",
   "execution_count": 115,
   "metadata": {},
   "outputs": [
    {
     "data": {
      "text/plain": [
       "array([[0, 1, 0, 1],\n",
       "       [1, 0, 1, 0],\n",
       "       [0, 1, 0, 1],\n",
       "       [1, 0, 1, 0]])"
      ]
     },
     "execution_count": 115,
     "metadata": {},
     "output_type": "execute_result"
    }
   ],
   "source": [
    "import numpy as np \n",
    "n = 4\n",
    "i=0\n",
    "array_n = np.zeros((n,n),dtype = np.int)\n",
    "while (i<n):\n",
    "    if i%2==0:\n",
    "        array_n[i][1::2]=1\n",
    "    else:\n",
    "        array_n[i][::2]=1\n",
    "    i+=1\n",
    "array_n"
   ]
  },
  {
   "cell_type": "code",
   "execution_count": 116,
   "metadata": {},
   "outputs": [
    {
     "name": "stdout",
     "output_type": "stream",
     "text": [
      "6\n",
      "[[0 1 0 1 0 1]\n",
      " [1 0 1 0 1 0]\n",
      " [0 1 0 1 0 1]\n",
      " [1 0 1 0 1 0]\n",
      " [0 1 0 1 0 1]\n",
      " [1 0 1 0 1 0]]\n"
     ]
    }
   ],
   "source": [
    "n = int(input())\n",
    "array_1 = np.array([[0,1]\n",
    "                   ,[1,0]])\n",
    "if n%2 != 0:\n",
    "    print(\"The checkerboard cannot be generated\")\n",
    "else:\n",
    "    x = int(n/2)\n",
    "    print(np.tile(array_1,(x,x)))"
   ]
  },
  {
   "cell_type": "code",
   "execution_count": null,
   "metadata": {},
   "outputs": [],
   "source": []
  },
  {
   "cell_type": "code",
   "execution_count": null,
   "metadata": {},
   "outputs": [],
   "source": []
  }
 ],
 "metadata": {
  "kernelspec": {
   "display_name": "Python 3",
   "language": "python",
   "name": "python3"
  },
  "language_info": {
   "codemirror_mode": {
    "name": "ipython",
    "version": 3
   },
   "file_extension": ".py",
   "mimetype": "text/x-python",
   "name": "python",
   "nbconvert_exporter": "python",
   "pygments_lexer": "ipython3",
   "version": "3.7.4"
  }
 },
 "nbformat": 4,
 "nbformat_minor": 2
}
